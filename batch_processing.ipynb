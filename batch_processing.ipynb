{
 "cells": [
  {
   "cell_type": "markdown",
   "id": "d75acddd",
   "metadata": {},
   "source": [
    "## Exploratry Data Analysis for IOT data"
   ]
  },
  {
   "cell_type": "code",
   "execution_count": 1,
   "id": "4092b2bf",
   "metadata": {},
   "outputs": [],
   "source": [
    "import pandas as pd\n",
    "import matplotlib.pyplot as plt"
   ]
  },
  {
   "cell_type": "code",
   "execution_count": 2,
   "id": "9c5419c8",
   "metadata": {},
   "outputs": [],
   "source": [
    "df = pd.read_csv('iot_telemetry_data.csv')"
   ]
  },
  {
   "cell_type": "code",
   "execution_count": 5,
   "id": "2af6967f",
   "metadata": {},
   "outputs": [
    {
     "data": {
      "text/html": [
       "<div>\n",
       "<style scoped>\n",
       "    .dataframe tbody tr th:only-of-type {\n",
       "        vertical-align: middle;\n",
       "    }\n",
       "\n",
       "    .dataframe tbody tr th {\n",
       "        vertical-align: top;\n",
       "    }\n",
       "\n",
       "    .dataframe thead th {\n",
       "        text-align: right;\n",
       "    }\n",
       "</style>\n",
       "<table border=\"1\" class=\"dataframe\">\n",
       "  <thead>\n",
       "    <tr style=\"text-align: right;\">\n",
       "      <th></th>\n",
       "      <th>ts</th>\n",
       "      <th>device</th>\n",
       "      <th>co</th>\n",
       "      <th>humidity</th>\n",
       "      <th>light</th>\n",
       "      <th>lpg</th>\n",
       "      <th>motion</th>\n",
       "      <th>smoke</th>\n",
       "      <th>temp</th>\n",
       "    </tr>\n",
       "  </thead>\n",
       "  <tbody>\n",
       "    <tr>\n",
       "      <th>214563</th>\n",
       "      <td>1.594878e+09</td>\n",
       "      <td>b8:27:eb:bf:9d:51</td>\n",
       "      <td>0.005439</td>\n",
       "      <td>46.100000</td>\n",
       "      <td>False</td>\n",
       "      <td>0.008183</td>\n",
       "      <td>False</td>\n",
       "      <td>0.021931</td>\n",
       "      <td>22.400000</td>\n",
       "    </tr>\n",
       "    <tr>\n",
       "      <th>286156</th>\n",
       "      <td>1.595000e+09</td>\n",
       "      <td>00:0f:00:70:91:0a</td>\n",
       "      <td>0.001591</td>\n",
       "      <td>77.500000</td>\n",
       "      <td>False</td>\n",
       "      <td>0.003363</td>\n",
       "      <td>False</td>\n",
       "      <td>0.008484</td>\n",
       "      <td>19.299999</td>\n",
       "    </tr>\n",
       "    <tr>\n",
       "      <th>243973</th>\n",
       "      <td>1.594928e+09</td>\n",
       "      <td>00:0f:00:70:91:0a</td>\n",
       "      <td>0.001956</td>\n",
       "      <td>75.000000</td>\n",
       "      <td>False</td>\n",
       "      <td>0.003906</td>\n",
       "      <td>False</td>\n",
       "      <td>0.009952</td>\n",
       "      <td>19.400000</td>\n",
       "    </tr>\n",
       "    <tr>\n",
       "      <th>160296</th>\n",
       "      <td>1.594786e+09</td>\n",
       "      <td>b8:27:eb:bf:9d:51</td>\n",
       "      <td>0.005272</td>\n",
       "      <td>49.000000</td>\n",
       "      <td>False</td>\n",
       "      <td>0.008001</td>\n",
       "      <td>False</td>\n",
       "      <td>0.021410</td>\n",
       "      <td>22.600000</td>\n",
       "    </tr>\n",
       "    <tr>\n",
       "      <th>200857</th>\n",
       "      <td>1.594855e+09</td>\n",
       "      <td>b8:27:eb:bf:9d:51</td>\n",
       "      <td>0.005822</td>\n",
       "      <td>47.900000</td>\n",
       "      <td>False</td>\n",
       "      <td>0.008597</td>\n",
       "      <td>False</td>\n",
       "      <td>0.023118</td>\n",
       "      <td>23.000000</td>\n",
       "    </tr>\n",
       "    <tr>\n",
       "      <th>125321</th>\n",
       "      <td>1.594727e+09</td>\n",
       "      <td>1c:bf:ce:15:ec:4d</td>\n",
       "      <td>0.004303</td>\n",
       "      <td>59.400002</td>\n",
       "      <td>True</td>\n",
       "      <td>0.006907</td>\n",
       "      <td>False</td>\n",
       "      <td>0.018299</td>\n",
       "      <td>22.900000</td>\n",
       "    </tr>\n",
       "    <tr>\n",
       "      <th>238895</th>\n",
       "      <td>1.594919e+09</td>\n",
       "      <td>b8:27:eb:bf:9d:51</td>\n",
       "      <td>0.006209</td>\n",
       "      <td>51.400000</td>\n",
       "      <td>False</td>\n",
       "      <td>0.009006</td>\n",
       "      <td>False</td>\n",
       "      <td>0.024295</td>\n",
       "      <td>22.000000</td>\n",
       "    </tr>\n",
       "    <tr>\n",
       "      <th>305538</th>\n",
       "      <td>1.595033e+09</td>\n",
       "      <td>b8:27:eb:bf:9d:51</td>\n",
       "      <td>0.006703</td>\n",
       "      <td>49.000000</td>\n",
       "      <td>False</td>\n",
       "      <td>0.009519</td>\n",
       "      <td>False</td>\n",
       "      <td>0.025775</td>\n",
       "      <td>22.300000</td>\n",
       "    </tr>\n",
       "    <tr>\n",
       "      <th>61914</th>\n",
       "      <td>1.594618e+09</td>\n",
       "      <td>b8:27:eb:bf:9d:51</td>\n",
       "      <td>0.005093</td>\n",
       "      <td>50.800000</td>\n",
       "      <td>False</td>\n",
       "      <td>0.007803</td>\n",
       "      <td>False</td>\n",
       "      <td>0.020845</td>\n",
       "      <td>21.800000</td>\n",
       "    </tr>\n",
       "    <tr>\n",
       "      <th>203583</th>\n",
       "      <td>1.594860e+09</td>\n",
       "      <td>1c:bf:ce:15:ec:4d</td>\n",
       "      <td>0.003937</td>\n",
       "      <td>55.299999</td>\n",
       "      <td>True</td>\n",
       "      <td>0.006478</td>\n",
       "      <td>False</td>\n",
       "      <td>0.017087</td>\n",
       "      <td>29.200001</td>\n",
       "    </tr>\n",
       "  </tbody>\n",
       "</table>\n",
       "</div>"
      ],
      "text/plain": [
       "                  ts             device        co   humidity  light       lpg  \\\n",
       "214563  1.594878e+09  b8:27:eb:bf:9d:51  0.005439  46.100000  False  0.008183   \n",
       "286156  1.595000e+09  00:0f:00:70:91:0a  0.001591  77.500000  False  0.003363   \n",
       "243973  1.594928e+09  00:0f:00:70:91:0a  0.001956  75.000000  False  0.003906   \n",
       "160296  1.594786e+09  b8:27:eb:bf:9d:51  0.005272  49.000000  False  0.008001   \n",
       "200857  1.594855e+09  b8:27:eb:bf:9d:51  0.005822  47.900000  False  0.008597   \n",
       "125321  1.594727e+09  1c:bf:ce:15:ec:4d  0.004303  59.400002   True  0.006907   \n",
       "238895  1.594919e+09  b8:27:eb:bf:9d:51  0.006209  51.400000  False  0.009006   \n",
       "305538  1.595033e+09  b8:27:eb:bf:9d:51  0.006703  49.000000  False  0.009519   \n",
       "61914   1.594618e+09  b8:27:eb:bf:9d:51  0.005093  50.800000  False  0.007803   \n",
       "203583  1.594860e+09  1c:bf:ce:15:ec:4d  0.003937  55.299999   True  0.006478   \n",
       "\n",
       "        motion     smoke       temp  \n",
       "214563   False  0.021931  22.400000  \n",
       "286156   False  0.008484  19.299999  \n",
       "243973   False  0.009952  19.400000  \n",
       "160296   False  0.021410  22.600000  \n",
       "200857   False  0.023118  23.000000  \n",
       "125321   False  0.018299  22.900000  \n",
       "238895   False  0.024295  22.000000  \n",
       "305538   False  0.025775  22.300000  \n",
       "61914    False  0.020845  21.800000  \n",
       "203583   False  0.017087  29.200001  "
      ]
     },
     "execution_count": 5,
     "metadata": {},
     "output_type": "execute_result"
    }
   ],
   "source": [
    "df.sample(10)"
   ]
  },
  {
   "cell_type": "markdown",
   "id": "6abed19d",
   "metadata": {},
   "source": [
    "## Checking number of entires "
   ]
  },
  {
   "cell_type": "code",
   "execution_count": 4,
   "id": "1d964faa",
   "metadata": {},
   "outputs": [
    {
     "data": {
      "image/png": "[encoded data removed]",
      "text/plain": [
       "<Figure size 640x480 with 1 Axes>"
      ]
     },
     "metadata": {},
     "output_type": "display_data"
    }
   ],
   "source": [
    "df.plot.line(x='ts', y='temp')\n",
    "plt.xlabel('Time')\n",
    "plt.ylabel('Temperature')\n",
    "plt.title('Time Series and Temperature')\n",
    "plt.show()\n",
    "\n"
   ]
  },
  {
   "cell_type": "code",
   "execution_count": 4,
   "id": "d9ada758",
   "metadata": {},
   "outputs": [
    {
     "name": "stdout",
     "output_type": "stream",
     "text": [
      "Number of rows: 405184\n",
      "Number of columns: 9\n"
     ]
    }
   ],
   "source": [
    "num_rows, num_cols = df.shape\n",
    "num_rows = df.shape[0]\n",
    "num_cols = df.shape[1]\n",
    "print(f'Number of rows: {num_rows}')\n",
    "print(f'Number of columns: {num_cols}')"
   ]
  },
  {
   "cell_type": "markdown",
   "id": "d15efdc8",
   "metadata": {},
   "source": [
    "## Printing columns names"
   ]
  },
  {
   "cell_type": "code",
   "execution_count": 5,
   "id": "5ac96f56",
   "metadata": {},
   "outputs": [
    {
     "name": "stdout",
     "output_type": "stream",
     "text": [
      "ts, device, co, humidity, light, lpg, motion, smoke, temp\n"
     ]
    }
   ],
   "source": [
    "column_names = df.columns.tolist()\n",
    "column_names_string = ', '.join(column_names)\n",
    "print(column_names_string)"
   ]
  },
  {
   "cell_type": "markdown",
   "id": "30f248ce",
   "metadata": {},
   "source": [
    "## Checking is there any null entries"
   ]
  },
  {
   "cell_type": "code",
   "execution_count": 6,
   "id": "070fc744",
   "metadata": {},
   "outputs": [
    {
     "name": "stdout",
     "output_type": "stream",
     "text": [
      "<class 'pandas.core.frame.DataFrame'>\n",
      "RangeIndex: 405184 entries, 0 to 405183\n",
      "Data columns (total 9 columns):\n",
      " #   Column    Non-Null Count   Dtype  \n",
      "---  ------    --------------   -----  \n",
      " 0   ts        405184 non-null  float64\n",
      " 1   device    405184 non-null  object \n",
      " 2   co        405184 non-null  float64\n",
      " 3   humidity  405184 non-null  float64\n",
      " 4   light     405184 non-null  bool   \n",
      " 5   lpg       405184 non-null  float64\n",
      " 6   motion    405184 non-null  bool   \n",
      " 7   smoke     405184 non-null  float64\n",
      " 8   temp      405184 non-null  float64\n",
      "dtypes: bool(2), float64(6), object(1)\n",
      "memory usage: 22.4+ MB\n"
     ]
    }
   ],
   "source": [
    "df.info()"
   ]
  },
  {
   "cell_type": "code",
   "execution_count": 7,
   "id": "c8c38ab9",
   "metadata": {},
   "outputs": [
    {
     "name": "stdout",
     "output_type": "stream",
     "text": [
      "ts          0\n",
      "device      0\n",
      "co          0\n",
      "humidity    0\n",
      "light       0\n",
      "lpg         0\n",
      "motion      0\n",
      "smoke       0\n",
      "temp        0\n",
      "dtype: int64\n"
     ]
    }
   ],
   "source": [
    "null_counts = df.isnull().sum()\n",
    "print(null_counts)"
   ]
  },
  {
   "cell_type": "code",
   "execution_count": null,
   "id": "04a5e68b",
   "metadata": {},
   "outputs": [],
   "source": []
  },
  {
   "cell_type": "code",
   "execution_count": 8,
   "id": "b95bdbd0",
   "metadata": {},
   "outputs": [],
   "source": [
    "df.head(10000).to_csv(\"test.csv\", index=False)"
   ]
  },
  {
   "cell_type": "code",
   "execution_count": 9,
   "id": "0d98f3b2",
   "metadata": {},
   "outputs": [],
   "source": [
    "df_test = pd.read_csv(\"test.csv\")"
   ]
  },
  {
   "cell_type": "code",
   "execution_count": 10,
   "id": "a0f9436d",
   "metadata": {},
   "outputs": [
    {
     "data": {
      "text/html": [
       "<div>\n",
       "<style scoped>\n",
       "    .dataframe tbody tr th:only-of-type {\n",
       "        vertical-align: middle;\n",
       "    }\n",
       "\n",
       "    .dataframe tbody tr th {\n",
       "        vertical-align: top;\n",
       "    }\n",
       "\n",
       "    .dataframe thead th {\n",
       "        text-align: right;\n",
       "    }\n",
       "</style>\n",
       "<table border=\"1\" class=\"dataframe\">\n",
       "  <thead>\n",
       "    <tr style=\"text-align: right;\">\n",
       "      <th></th>\n",
       "      <th>ts</th>\n",
       "      <th>device</th>\n",
       "      <th>co</th>\n",
       "      <th>humidity</th>\n",
       "      <th>light</th>\n",
       "      <th>lpg</th>\n",
       "      <th>motion</th>\n",
       "      <th>smoke</th>\n",
       "      <th>temp</th>\n",
       "    </tr>\n",
       "  </thead>\n",
       "  <tbody>\n",
       "    <tr>\n",
       "      <th>9995</th>\n",
       "      <td>1.594529e+09</td>\n",
       "      <td>00:0f:00:70:91:0a</td>\n",
       "      <td>0.002613</td>\n",
       "      <td>75.699997</td>\n",
       "      <td>False</td>\n",
       "      <td>0.004815</td>\n",
       "      <td>False</td>\n",
       "      <td>0.012445</td>\n",
       "      <td>19.400000</td>\n",
       "    </tr>\n",
       "    <tr>\n",
       "      <th>9996</th>\n",
       "      <td>1.594529e+09</td>\n",
       "      <td>b8:27:eb:bf:9d:51</td>\n",
       "      <td>0.004843</td>\n",
       "      <td>52.600000</td>\n",
       "      <td>False</td>\n",
       "      <td>0.007524</td>\n",
       "      <td>False</td>\n",
       "      <td>0.020051</td>\n",
       "      <td>22.000000</td>\n",
       "    </tr>\n",
       "    <tr>\n",
       "      <th>9997</th>\n",
       "      <td>1.594529e+09</td>\n",
       "      <td>b8:27:eb:bf:9d:51</td>\n",
       "      <td>0.004855</td>\n",
       "      <td>52.600000</td>\n",
       "      <td>False</td>\n",
       "      <td>0.007538</td>\n",
       "      <td>False</td>\n",
       "      <td>0.020090</td>\n",
       "      <td>22.000000</td>\n",
       "    </tr>\n",
       "    <tr>\n",
       "      <th>9998</th>\n",
       "      <td>1.594529e+09</td>\n",
       "      <td>1c:bf:ce:15:ec:4d</td>\n",
       "      <td>0.004053</td>\n",
       "      <td>76.800003</td>\n",
       "      <td>True</td>\n",
       "      <td>0.006615</td>\n",
       "      <td>False</td>\n",
       "      <td>0.017473</td>\n",
       "      <td>25.700001</td>\n",
       "    </tr>\n",
       "    <tr>\n",
       "      <th>9999</th>\n",
       "      <td>1.594529e+09</td>\n",
       "      <td>b8:27:eb:bf:9d:51</td>\n",
       "      <td>0.004833</td>\n",
       "      <td>52.600000</td>\n",
       "      <td>False</td>\n",
       "      <td>0.007513</td>\n",
       "      <td>False</td>\n",
       "      <td>0.020020</td>\n",
       "      <td>22.000000</td>\n",
       "    </tr>\n",
       "  </tbody>\n",
       "</table>\n",
       "</div>"
      ],
      "text/plain": [
       "                ts             device        co   humidity  light       lpg  \\\n",
       "9995  1.594529e+09  00:0f:00:70:91:0a  0.002613  75.699997  False  0.004815   \n",
       "9996  1.594529e+09  b8:27:eb:bf:9d:51  0.004843  52.600000  False  0.007524   \n",
       "9997  1.594529e+09  b8:27:eb:bf:9d:51  0.004855  52.600000  False  0.007538   \n",
       "9998  1.594529e+09  1c:bf:ce:15:ec:4d  0.004053  76.800003   True  0.006615   \n",
       "9999  1.594529e+09  b8:27:eb:bf:9d:51  0.004833  52.600000  False  0.007513   \n",
       "\n",
       "      motion     smoke       temp  \n",
       "9995   False  0.012445  19.400000  \n",
       "9996   False  0.020051  22.000000  \n",
       "9997   False  0.020090  22.000000  \n",
       "9998   False  0.017473  25.700001  \n",
       "9999   False  0.020020  22.000000  "
      ]
     },
     "execution_count": 10,
     "metadata": {},
     "output_type": "execute_result"
    }
   ],
   "source": [
    "df_test.tail()"
   ]
  },
  {
   "cell_type": "markdown",
   "id": "6e40e16b",
   "metadata": {},
   "source": [
    "## Shape of test dataframe"
   ]
  },
  {
   "cell_type": "code",
   "execution_count": 11,
   "id": "26ea013c",
   "metadata": {},
   "outputs": [
    {
     "data": {
      "text/plain": [
       "(10000, 9)"
      ]
     },
     "execution_count": 11,
     "metadata": {},
     "output_type": "execute_result"
    }
   ],
   "source": [
    "df_test.shape"
   ]
  },
  {
   "cell_type": "code",
   "execution_count": 12,
   "id": "901a0947",
   "metadata": {},
   "outputs": [
    {
     "name": "stdout",
     "output_type": "stream",
     "text": [
      "<class 'pandas.core.frame.DataFrame'>\n",
      "RangeIndex: 10000 entries, 0 to 9999\n",
      "Data columns (total 9 columns):\n",
      " #   Column    Non-Null Count  Dtype  \n",
      "---  ------    --------------  -----  \n",
      " 0   ts        10000 non-null  float64\n",
      " 1   device    10000 non-null  object \n",
      " 2   co        10000 non-null  float64\n",
      " 3   humidity  10000 non-null  float64\n",
      " 4   light     10000 non-null  bool   \n",
      " 5   lpg       10000 non-null  float64\n",
      " 6   motion    10000 non-null  bool   \n",
      " 7   smoke     10000 non-null  float64\n",
      " 8   temp      10000 non-null  float64\n",
      "dtypes: bool(2), float64(6), object(1)\n",
      "memory usage: 566.5+ KB\n"
     ]
    }
   ],
   "source": [
    "df_test.info()"
   ]
  },
  {
   "cell_type": "markdown",
   "id": "2527979e",
   "metadata": {},
   "source": [
    "## Creating table in QuestDB according to data requirment"
   ]
  },
  {
   "cell_type": "code",
   "execution_count": 31,
   "id": "7fc79c8b",
   "metadata": {},
   "outputs": [
    {
     "name": "stdout",
     "output_type": "stream",
     "text": [
      "Table created successfully\n"
     ]
    }
   ],
   "source": [
    "import requests\n",
    "import urllib.parse as par\n",
    "\n",
    "\n",
    "query = \"\"\"CREATE TABLE IF NOT EXISTS weather (\n",
    "  ts TIMESTAMP,\n",
    "  device STRING,\n",
    "  co FLOAT,\n",
    "  humidity FLOAT,\n",
    "  light BOOLEAN,\n",
    "  lpg FLOAT,\n",
    "  motion BOOLEAN,\n",
    "  smoke FLOAT,\n",
    "  temp FLOAT\n",
    ")\n",
    "TIMESTAMP(ts)\n",
    "PARTITION BY HOUR;\"\"\"\n",
    "\n",
    "response = requests.post(\"http://localhost:9000/exec?query=\" + query)\n",
    "\n",
    "# Check the response status code and handle the response accordingly\n",
    "if response.status_code != 200:\n",
    "    print(f\"Error creating table: {response.text}\")\n",
    "else:\n",
    "    print(\"Table created successfully\")\n"
   ]
  },
  {
   "cell_type": "code",
   "execution_count": null,
   "id": "564a0852",
   "metadata": {},
   "outputs": [],
   "source": []
  },
  {
   "cell_type": "code",
   "execution_count": null,
   "id": "923bb75a",
   "metadata": {},
   "outputs": [],
   "source": []
  },
  {
   "cell_type": "code",
   "execution_count": null,
   "id": "4284f02a",
   "metadata": {},
   "outputs": [],
   "source": []
  },
  {
   "cell_type": "code",
   "execution_count": 13,
   "id": "d0fa50bf",
   "metadata": {},
   "outputs": [],
   "source": [
    "import csv\n",
    "import datetime\n",
    "import requests\n",
    "\n",
    "# Open the CSV file\n",
    "with open(\"test.csv\", \"r\") as f:\n",
    "    # Use the csv module to read the CSV file\n",
    "    reader = csv.reader(f)\n",
    "\n",
    "    # Get the first row (the header row)\n",
    "    header = next(reader)\n",
    "\n",
    "    # Iterate over the rows of the CSV file starting from the second row\n",
    "    for row in reader:\n",
    "        # Convert the value in the ts column to a timestamp\n",
    "        ts = datetime.datetime.fromtimestamp(float(row[0])).strftime(\"%Y-%m-%d %H:%M:%S\")\n",
    "        \n",
    "    "
   ]
  },
  {
   "cell_type": "code",
   "execution_count": null,
   "id": "c01a75c5",
   "metadata": {},
   "outputs": [],
   "source": []
  },
  {
   "cell_type": "code",
   "execution_count": null,
   "id": "68878753",
   "metadata": {},
   "outputs": [],
   "source": [
    "\n"
   ]
  },
  {
   "cell_type": "code",
   "execution_count": null,
   "id": "ca146122",
   "metadata": {},
   "outputs": [],
   "source": []
  },
  {
   "cell_type": "markdown",
   "id": "fbd14776",
   "metadata": {},
   "source": [
    "import pandas as pd\n",
    "import csv\n",
    "import requests\n",
    "import datetime\n",
    "\n",
    "\n",
    "# Read the data from the CSV file\n",
    "with open('iot_telemetry_data.csv', 'r') as f:\n",
    "    \n",
    "    reader = csv.reader(f)\n",
    "    # Skip the first row (column names)\n",
    "    next(reader)\n",
    "    # Read the data rows\n",
    "    rows = [row for row in reader]\n",
    "\n",
    "# Convert the 'ts' column to a timestamp and the 'temp' column to Celsius\n",
    "for row in rows:\n",
    "    \n",
    "    row[0] = datetime.datetime.fromtimestamp(float(row[0]))\n",
    "    row[8] = (float(row[8]) - 32) * 5 / 9\n",
    "\n",
    "\n",
    "batch_size = 350\n",
    "\n",
    "# Calculate the number of batches\n",
    "num_batches = len(rows) // batch_size + (len(rows) % batch_size > 0)\n",
    "\n",
    "\n",
    "# Insert the data into the QuestDB table in batches of rows\n",
    "\n",
    "for i, batch in enumerate(range(0, len(rows), batch_size)):\n",
    "    \n",
    "    batch_number = i+1\n",
    "     \n",
    "    batch = rows[i:i+batch_size]\n",
    "    values = \", \".join([f\"('{row[0]}', '{row[1]}', {row[2]}, {row[3]}, {row[4]}, {row[5]}, {row[6]}, {row[7]}, {row[8]})\" for row in batch])\n",
    "    query = f\"INSERT INTO weather (ts, device, co, humidity, light, lpg, motion, smoke, temp) VALUES {values}\"\n",
    "    response = requests.post(\"http://localhost:9000/exec?query=\" + query)\n",
    "    \n",
    "    # Check the response status code and handle the response accordingly\n",
    "    if response.status_code != 200:\n",
    "        print(f\"Batch {batch_number} of {num_batches} Error Inserting Data: {response.text}\")\n",
    "            \n",
    "    else:\n",
    "        print(f\"Batch {batch_number} of {num_batches} Inserted Successfully\")\n",
    "    "
   ]
  },
  {
   "cell_type": "markdown",
   "id": "2f8fba86",
   "metadata": {},
   "source": [
    "## Function for creating table"
   ]
  },
  {
   "cell_type": "code",
   "execution_count": 17,
   "id": "9cd31a13",
   "metadata": {},
   "outputs": [],
   "source": [
    "import pandas as pd\n",
    "import csv\n",
    "import requests\n",
    "import datetime\n",
    "\n",
    "table_name = 'test'\n",
    "def create_table():\n",
    "    # Use the table_name variable in the CREATE TABLE query\n",
    "    query = f\"\"\"CREATE TABLE IF NOT EXISTS {table_name} \n",
    "          (\n",
    "          ts TIMESTAMP,\n",
    "          device STRING,\n",
    "          co FLOAT,\n",
    "          humidity FLOAT,\n",
    "          light BOOLEAN,\n",
    "          lpg FLOAT,\n",
    "          motion BOOLEAN,\n",
    "          smoke FLOAT,\n",
    "          temp FLOAT\n",
    "          )\n",
    "          TIMESTAMP(ts)\n",
    "          PARTITION BY HOUR;\"\"\"\n",
    "    \n",
    "    response = requests.post(\"http://localhost:9000/exec?query=\" + query)\n",
    "    \n",
    "    if response.status_code != 200:\n",
    "        print(f\"Error creating table: {response.text}\")\n",
    "            \n",
    "    else:\n",
    "        print(\"Table created successfully\")"
   ]
  },
  {
   "cell_type": "markdown",
   "id": "4167d45a",
   "metadata": {},
   "source": [
    "\n",
    "## Function for transformation and inserting data in batches into QuestDB"
   ]
  },
  {
   "cell_type": "code",
   "execution_count": 21,
   "id": "28b88845",
   "metadata": {},
   "outputs": [],
   "source": [
    "import csv\n",
    "import requests\n",
    "import datetime\n",
    "\n",
    "csv_file = 'test.csv'\n",
    "\n",
    "\n",
    "def data_in_batches():\n",
    "    # Read the data from the CSV file\n",
    "    with open(csv_file, 'r') as f:\n",
    "\n",
    "        reader = csv.reader(f)\n",
    "        # Skip the first row (column names)\n",
    "        next(reader)\n",
    "        # Read the data rows\n",
    "        rows = [row for row in reader]\n",
    "\n",
    "    # Convert the 'ts' column to a timestamp and the 'temp' column to Celsius\n",
    "    for row in rows:\n",
    "\n",
    "        row[0] = datetime.datetime.fromtimestamp(float(row[0]))\n",
    "        row[8] = (float(row[8]) - 32) * 5 / 9\n",
    "\n",
    "\n",
    "    batch_size = 350\n",
    "\n",
    "    # Calculate the number of batches\n",
    "    num_batches = len(rows) // batch_size + (len(rows) % batch_size > 0)\n",
    "\n",
    "\n",
    "    # Insert the data into the QuestDB table in batches of rows\n",
    "\n",
    "    for i, batch in enumerate(range(0, len(rows), batch_size)):\n",
    "\n",
    "        batch_number = i+1\n",
    "\n",
    "        batch = rows[i:i+batch_size]\n",
    "        \n",
    "        values = \", \".join([f\"('{row[0]}', '{row[1]}', {row[2]}, {row[3]}, {row[4]}, {row[5]}, {row[6]}, {row[7]}, {row[8]})\" for row in batch])\n",
    "        \n",
    "        query = f\"INSERT INTO {table_name} (ts, device, co, humidity, light, lpg, motion, smoke, temp) VALUES {values}\"\n",
    "        \n",
    "        response = requests.post(\"http://localhost:9000/exec?query=\" + query)\n",
    "\n",
    "        # Check the response status code and handle the response accordingly\n",
    "        if response.status_code != 200:\n",
    "            print(f\"Batch {batch_number} of {num_batches} Error Inserting Data: {response.text}\")\n",
    "\n",
    "        else:\n",
    "            print(f\"Batch {batch_number} of {num_batches} Inserted Successfully\")\n"
   ]
  },
  {
   "cell_type": "code",
   "execution_count": null,
   "id": "4c899096",
   "metadata": {},
   "outputs": [],
   "source": []
  },
  {
   "cell_type": "code",
   "execution_count": null,
   "id": "e102147f",
   "metadata": {},
   "outputs": [],
   "source": []
  }
 ],
 "metadata": {
  "kernelspec": {
   "display_name": "Python 3 (ipykernel)",
   "language": "python",
   "name": "python3"
  },
  "language_info": {
   "codemirror_mode": {
    "name": "ipython",
    "version": 3
   },
   "file_extension": ".py",
   "mimetype": "text/x-python",
   "name": "python",
   "nbconvert_exporter": "python",
   "pygments_lexer": "ipython3",
   "version": "3.9.13"
  }
 },
 "nbformat": 4,
 "nbformat_minor": 5
}
